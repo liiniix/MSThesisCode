{
 "cells": [
  {
   "cell_type": "code",
   "execution_count": 9,
   "metadata": {},
   "outputs": [],
   "source": [
    "from torch_geometric.datasets import Planetoid, CitationFull, NELL\n",
    "from Proposed.proposed_dataset import ProposedDataset\n",
    "import torch_geometric.transforms as T\n",
    "from torch_geometric.data import InMemoryDataset, Data\n",
    "import torch\n",
    "from torch_sparse import SparseTensor\n",
    "\n",
    "\n",
    "DATASET_ROOT_FOLDER = \"Datasets\"\n",
    "DATASET_ROOT_FOLDER_FOR_NELL = \"Datasets/NELL\"\n",
    "\n",
    "def get_citeseer_dataset():\n",
    "    dataset = Planetoid(root = DATASET_ROOT_FOLDER,\n",
    "                        name= \"CiteSeer\",\n",
    "                        split='random')\n",
    "    \n",
    "    return random_split(dataset)\n",
    "\n",
    "def get_cora_dataset():\n",
    "    dataset = Planetoid(root = DATASET_ROOT_FOLDER,\n",
    "                        name= \"Cora\",\n",
    "                        split='random')\n",
    "    \n",
    "    return random_split(dataset)\n",
    "\n",
    "\n",
    "def get_pubmed_dataset():\n",
    "    dataset = Planetoid(root = DATASET_ROOT_FOLDER,\n",
    "                        name= \"PubMed\",\n",
    "                        split='random')\n",
    "    \n",
    "    return random_split(dataset)\n",
    "\n",
    "\n",
    "def get_nell_dataset():\n",
    "\n",
    "    transform = T.RandomNodeSplit(split='random')\n",
    "\n",
    "    dataset = NELL(root = DATASET_ROOT_FOLDER, transform=transform)\n",
    "    return dataset\n",
    "\n",
    "    data = Data(x=dataset[0].x.to_dense(),\n",
    "                edge_index=dataset[0].edge_index,\n",
    "                y=dataset[0].y)\n",
    "    \n",
    "    dataset = InMemoryNellDataset(root = DATASET_ROOT_FOLDER_FOR_NELL, data=data)\n",
    "    \n",
    "    return random_split(dataset)\n",
    "\n",
    "def get_in_memeory_nell_dataset():\n",
    "    dataset = InMemoryNellDataset(root = DATASET_ROOT_FOLDER_FOR_NELL)\n",
    "    \n",
    "    return random_split(dataset, is_nell=True)\n",
    "\n",
    "\n",
    "def get_proposed_dataset():\n",
    "    dataset = ProposedDataset(root = DATASET_ROOT_FOLDER)\n",
    "    \n",
    "    return dataset\n",
    "\n",
    "\n",
    "def random_split(data, num_train_per_class: int = 20, num_val: int = 500, is_nell=False):\n",
    "    data.train_mask.fill_(False)\n",
    "    for c in range(data.num_classes):\n",
    "        num_train_per_class = 2 if is_nell else num_train_per_class\n",
    "        idx = (data.y == c).nonzero(as_tuple=False).view(-1)\n",
    "        idx = idx[torch.randperm(idx.size(0))[:num_train_per_class]]\n",
    "        data.train_mask[idx] = True\n",
    "\n",
    "    remaining = (~data.train_mask).nonzero(as_tuple=False).view(-1)\n",
    "    remaining = remaining[torch.randperm(remaining.size(0))]\n",
    "\n",
    "    data.val_mask.fill_(False)\n",
    "    data.val_mask[remaining[:num_val]] = True\n",
    "\n",
    "    data.test_mask.fill_(False)\n",
    "    data.test_mask[remaining[num_val:]] = True\n",
    "\n",
    "    return data\n",
    "\n",
    "\n",
    "\n",
    "\n",
    "import torch\n",
    "from torch_geometric.data import InMemoryDataset, Data\n",
    "\n",
    "\n",
    "class InMemoryNellDataset(InMemoryDataset):\n",
    "    def __init__(self, root, transform=None, pre_transform=None, pre_filter=None):\n",
    "        super().__init__(root, transform, pre_transform, pre_filter)\n",
    "        #self.load(self.processed_paths[0])\n",
    "        \n",
    "        self.data, self.slices = torch.load(self.processed_paths[0])\n",
    "\n",
    "    @property\n",
    "    def raw_file_names(self):\n",
    "        return ['file.edges', 'file.x']\n",
    "\n",
    "    @property\n",
    "    def processed_file_names(self):\n",
    "        return ['data.pt']\n",
    "\n",
    "    def download(self):\n",
    "        pass\n",
    "\n",
    "    def process(self):\n",
    "        \n",
    "        dataset = get_nell_dataset()\n",
    "        \n",
    "        y  = dataset[0].y\n",
    "        y_unique = y.unique()\n",
    "        to_be_replaced_with = torch.arange(0, y_unique.shape[0])\n",
    "        for i in range(y_unique.shape[0]):\n",
    "            y[y==y_unique[i]] = to_be_replaced_with[i]\n",
    "        \n",
    "        \n",
    "        data = Data(x=dataset[0].x.to_dense(),\n",
    "                edge_index=dataset[0].edge_index,\n",
    "                y=y)\n",
    "        data.train_mask = torch.zeros(dataset[0].num_nodes, dtype=torch.bool)\n",
    "        data.test_mask = torch.zeros(dataset[0].num_nodes, dtype=torch.bool)\n",
    "        data.val_mask = torch.zeros(dataset[0].num_nodes, dtype=torch.bool)\n",
    "        \n",
    "        \n",
    "        data_list = [data]\n",
    "\n",
    "        #self.save(data, self.processed_paths[0])\n",
    "        torch.save(self.collate(data_list), self.processed_paths[0])"
   ]
  },
  {
   "cell_type": "code",
   "execution_count": 10,
   "metadata": {},
   "outputs": [
    {
     "name": "stderr",
     "output_type": "stream",
     "text": [
      "Processing...\n",
      "/home/system/anaconda3/envs/PytorchGeometric/lib/python3.11/site-packages/torch_geometric/data/storage.py:327: UserWarning: Unable to accurately infer 'num_nodes' from the attribute set '{'val_mask', 'train_mask', 'test_mask', 'edge_index', 'x', 'y'}'. Please explicitly set 'num_nodes' as an attribute of 'data' to suppress this warning\n",
      "  warnings.warn(\n",
      "Done!\n"
     ]
    }
   ],
   "source": [
    "in_memory_nell_dataset = get_in_memeory_nell_dataset()"
   ]
  },
  {
   "cell_type": "code",
   "execution_count": 11,
   "metadata": {},
   "outputs": [
    {
     "data": {
      "text/plain": [
       "Data(x=[65755, 61278], edge_index=[2, 251550], y=[65755], train_mask=[65755], test_mask=[65755], val_mask=[65755])"
      ]
     },
     "execution_count": 11,
     "metadata": {},
     "output_type": "execute_result"
    }
   ],
   "source": [
    "in_memory_nell_dataset[0]"
   ]
  },
  {
   "cell_type": "code",
   "execution_count": 12,
   "metadata": {},
   "outputs": [
    {
     "data": {
      "text/plain": [
       "tensor([  0,   1,   2,   3,   4,   5,   6,   7,   8,   9,  10,  11,  12,  13,\n",
       "         14,  15,  16,  17,  18,  19,  20,  21,  22,  23,  24,  25,  26,  27,\n",
       "         28,  29,  30,  31,  32,  33,  34,  35,  36,  37,  38,  39,  40,  41,\n",
       "         42,  43,  44,  45,  46,  47,  48,  49,  50,  51,  52,  53,  54,  55,\n",
       "         56,  57,  58,  59,  60,  61,  62,  63,  64,  65,  66,  67,  68,  69,\n",
       "         70,  71,  72,  73,  74,  75,  76,  77,  78,  79,  80,  81,  82,  83,\n",
       "         84,  85,  86,  87,  88,  89,  90,  91,  92,  93,  94,  95,  96,  97,\n",
       "         98,  99, 100, 101, 102, 103, 104])"
      ]
     },
     "execution_count": 12,
     "metadata": {},
     "output_type": "execute_result"
    }
   ],
   "source": [
    "in_memory_nell_dataset[0].y.unique()"
   ]
  },
  {
   "cell_type": "code",
   "execution_count": null,
   "metadata": {},
   "outputs": [],
   "source": []
  }
 ],
 "metadata": {
  "kernelspec": {
   "display_name": "PytorchGeometric",
   "language": "python",
   "name": "python3"
  },
  "language_info": {
   "codemirror_mode": {
    "name": "ipython",
    "version": 3
   },
   "file_extension": ".py",
   "mimetype": "text/x-python",
   "name": "python",
   "nbconvert_exporter": "python",
   "pygments_lexer": "ipython3",
   "version": "3.11.7"
  }
 },
 "nbformat": 4,
 "nbformat_minor": 2
}
