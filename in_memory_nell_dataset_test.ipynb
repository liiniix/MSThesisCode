{
 "cells": [
  {
   "cell_type": "code",
   "execution_count": 1,
   "metadata": {},
   "outputs": [],
   "source": [
    "from torch_geometric.datasets import Planetoid, CitationFull, NELL\n",
    "from Proposed.proposed_dataset import ProposedDataset\n",
    "import torch_geometric.transforms as T\n",
    "from torch_geometric.data import InMemoryDataset, Data\n",
    "import torch\n",
    "\n",
    "\n",
    "DATASET_ROOT_FOLDER = \"Datasets\"\n",
    "DATASET_ROOT_FOLDER_FOR_NELL = \"Datasets/NELL\"\n",
    "\n",
    "def get_citeseer_dataset():\n",
    "    dataset = Planetoid(root = DATASET_ROOT_FOLDER,\n",
    "                        name= \"CiteSeer\",\n",
    "                        split='random')\n",
    "    \n",
    "    return random_split(dataset)\n",
    "\n",
    "def get_cora_dataset():\n",
    "    dataset = Planetoid(root = DATASET_ROOT_FOLDER,\n",
    "                        name= \"Cora\",\n",
    "                        split='random')\n",
    "    \n",
    "    return random_split(dataset)\n",
    "\n",
    "\n",
    "def get_pubmed_dataset():\n",
    "    dataset = Planetoid(root = DATASET_ROOT_FOLDER,\n",
    "                        name= \"PubMed\",\n",
    "                        split='random')\n",
    "    \n",
    "    return random_split(dataset)\n",
    "\n",
    "\n",
    "def get_nell_dataset():\n",
    "\n",
    "    transform = T.RandomNodeSplit(split='random')\n",
    "\n",
    "    dataset = NELL(root = DATASET_ROOT_FOLDER, transform=transform)\n",
    "    return dataset\n",
    "\n",
    "\n",
    "def get_in_memeory_nell_dataset():\n",
    "    dataset = InMemoryNellDataset(root = DATASET_ROOT_FOLDER_FOR_NELL)\n",
    "    \n",
    "    return random_split(dataset, is_nell=True)\n",
    "\n",
    "\n",
    "def get_proposed_dataset():\n",
    "    dataset = ProposedDataset(root = DATASET_ROOT_FOLDER)\n",
    "    \n",
    "    return dataset\n",
    "\n",
    "\n",
    "def random_split(data, num_train_per_class: int = 20, num_val: int = 500, is_nell=False):\n",
    "    data.train_mask.fill_(False)\n",
    "    for c in range(data.num_classes):\n",
    "        num_train_per_class = 2 if is_nell else num_train_per_class\n",
    "        idx = (data.y == c).nonzero(as_tuple=False).view(-1)\n",
    "        idx = idx[torch.randperm(idx.size(0))[:num_train_per_class]]\n",
    "        data.train_mask[idx] = True\n",
    "\n",
    "    remaining = (~data.train_mask).nonzero(as_tuple=False).view(-1)\n",
    "    remaining = remaining[torch.randperm(remaining.size(0))]\n",
    "\n",
    "    data.val_mask.fill_(False)\n",
    "    data.val_mask[remaining[:num_val]] = True\n",
    "\n",
    "    data.test_mask.fill_(False)\n",
    "    data.test_mask[remaining[num_val:]] = True\n",
    "\n",
    "    return data\n",
    "\n",
    "\n",
    "\n",
    "\n",
    "import torch\n",
    "from torch_geometric.data import InMemoryDataset, Data\n",
    "\n",
    "\n",
    "class InMemoryNellDataset(InMemoryDataset):\n",
    "    def __init__(self, root, transform=None, pre_transform=None, pre_filter=None):\n",
    "        super().__init__(root, transform, pre_transform, pre_filter)\n",
    "        #self.load(self.processed_paths[0])\n",
    "        \n",
    "        self.data, self.slices = torch.load(self.processed_paths[0])\n",
    "\n",
    "    @property\n",
    "    def raw_file_names(self):\n",
    "        return ['file.edges', 'file.x']\n",
    "\n",
    "    @property\n",
    "    def processed_file_names(self):\n",
    "        return ['data.pt']\n",
    "\n",
    "    def download(self):\n",
    "        pass\n",
    "\n",
    "    def process(self):\n",
    "        \n",
    "        dataset = get_nell_dataset()\n",
    "        \n",
    "        y  = dataset[0].y\n",
    "        y_unique = y.unique()\n",
    "        to_be_replaced_with = torch.arange(0, y_unique.shape[0])\n",
    "        for i in range(y_unique.shape[0]):\n",
    "            y[y==y_unique[i]] = to_be_replaced_with[i]\n",
    "        \n",
    "        \n",
    "        data = Data(x=dataset[0].x,\n",
    "                edge_index=dataset[0].edge_index,\n",
    "                y=y)\n",
    "        data.train_mask = torch.zeros(dataset[0].num_nodes, dtype=torch.bool)\n",
    "        data.test_mask = torch.zeros(dataset[0].num_nodes, dtype=torch.bool)\n",
    "        data.val_mask = torch.zeros(dataset[0].num_nodes, dtype=torch.bool)\n",
    "        \n",
    "        \n",
    "        data_list = [data]\n",
    "\n",
    "        #self.save(data, self.processed_paths[0])\n",
    "        torch.save(self.collate(data_list), self.processed_paths[0])"
   ]
  },
  {
   "cell_type": "code",
   "execution_count": 50,
   "metadata": {},
   "outputs": [],
   "source": [
    "in_memory_nell_dataset = get_in_memeory_nell_dataset()"
   ]
  },
  {
   "cell_type": "code",
   "execution_count": 51,
   "metadata": {},
   "outputs": [
    {
     "data": {
      "text/plain": [
       "Data(x=[65755, 61278, nnz=426664], edge_index=[2, 251550], y=[65755], train_mask=[65755], test_mask=[65755], val_mask=[65755])"
      ]
     },
     "execution_count": 51,
     "metadata": {},
     "output_type": "execute_result"
    }
   ],
   "source": [
    "in_memory_nell_dataset[0]"
   ]
  },
  {
   "cell_type": "code",
   "execution_count": 52,
   "metadata": {},
   "outputs": [
    {
     "data": {
      "text/plain": [
       "tensor([[1., 4., 0.,  ..., 0., 0., 0.],\n",
       "        [1., 2., 0.,  ..., 0., 0., 0.],\n",
       "        [1., 1., 1.,  ..., 0., 0., 0.],\n",
       "        ...,\n",
       "        [1., 1., 1.,  ..., 0., 0., 0.],\n",
       "        [1., 2., 0.,  ..., 0., 0., 0.],\n",
       "        [1., 1., 0.,  ..., 0., 0., 0.]])"
      ]
     },
     "execution_count": 52,
     "metadata": {},
     "output_type": "execute_result"
    }
   ],
   "source": [
    "in_memory_nell_dataset[0].x[1:10].to_dense()"
   ]
  },
  {
   "cell_type": "code",
   "execution_count": 53,
   "metadata": {},
   "outputs": [],
   "source": [
    "from torch_geometric.utils.convert import to_networkx\n",
    "import networkx as nx"
   ]
  },
  {
   "cell_type": "code",
   "execution_count": 56,
   "metadata": {},
   "outputs": [
    {
     "name": "stderr",
     "output_type": "stream",
     "text": [
      "c:\\Users\\Masud Karim\\.conda\\envs\\PytorchGeometric8\\lib\\site-packages\\torch_geometric\\data\\storage.py:327: UserWarning: Unable to accurately infer 'num_nodes' from the attribute set '{'train_mask', 'edge_index', 'val_mask', 'test_mask', 'y', 'x'}'. Please explicitly set 'num_nodes' as an attribute of 'data' to suppress this warning\n",
      "  warnings.warn(\n"
     ]
    }
   ],
   "source": [
    "G = to_networkx(in_memory_nell_dataset[0])"
   ]
  },
  {
   "cell_type": "code",
   "execution_count": 57,
   "metadata": {},
   "outputs": [],
   "source": [
    "nx.write_edgelist(G, \"test.edgelist\")"
   ]
  },
  {
   "cell_type": "code",
   "execution_count": 24,
   "metadata": {},
   "outputs": [
    {
     "data": {
      "text/plain": [
       "SparseTensor(row=tensor([0, 0, 0, 0, 0, 0, 0, 0, 0, 0, 0, 0, 0, 0, 0, 0, 0, 0, 0, 0, 0, 0, 0, 0,\n",
       "                           0, 0, 0, 0, 0, 0, 0, 0, 0, 0, 0, 0, 0, 0, 0, 0, 0, 0, 0, 0, 0, 0, 0, 0,\n",
       "                           0, 0, 0, 0, 0, 0, 0, 0, 0, 0, 0, 0]),\n",
       "             col=tensor([   0,    1,    4,    5,    9,   13,   16,   25,   26,   29,   46,   66,\n",
       "                             67,   69,   71,   79,   85,   90,   92,  107,  133,  172,  187,  277,\n",
       "                            404,  588,  700,  733,  775,  912,  945, 1005, 1074, 1154, 1226, 1380,\n",
       "                           1400, 1547, 1607, 1627, 1654, 1662, 1690, 1747, 1749, 1995, 2813, 2916,\n",
       "                           3156, 3179, 3196, 3342, 3383, 3831, 4276, 4540, 4686, 4843, 4884, 5079]),\n",
       "             val=tensor([2., 6., 6., 9., 1., 3., 2., 3., 7., 4., 2., 1., 5., 2., 4., 1., 3., 1.,\n",
       "                           1., 1., 1., 2., 3., 1., 1., 1., 1., 1., 1., 1., 1., 1., 1., 1., 1., 1.,\n",
       "                           1., 1., 1., 1., 1., 3., 1., 1., 2., 1., 1., 1., 1., 1., 1., 1., 1., 1.,\n",
       "                           1., 1., 1., 1., 1., 1.]),\n",
       "             size=(1, 61278), nnz=60, density=0.10%)"
      ]
     },
     "execution_count": 24,
     "metadata": {},
     "output_type": "execute_result"
    }
   ],
   "source": [
    "in_memory_nell_dataset[0].x[1] + in_memory_nell_dataset[0].x[2]"
   ]
  },
  {
   "cell_type": "code",
   "execution_count": 25,
   "metadata": {},
   "outputs": [
    {
     "ename": "IndexError",
     "evalue": "The shape of the mask [4] at index 0 does not match the shape of the indexed tensor [65755] at index 0",
     "output_type": "error",
     "traceback": [
      "\u001b[1;31m---------------------------------------------------------------------------\u001b[0m",
      "\u001b[1;31mIndexError\u001b[0m                                Traceback (most recent call last)",
      "Cell \u001b[1;32mIn[25], line 1\u001b[0m\n\u001b[1;32m----> 1\u001b[0m \u001b[43min_memory_nell_dataset\u001b[49m\u001b[43m[\u001b[49m\u001b[38;5;241;43m0\u001b[39;49m\u001b[43m]\u001b[49m\u001b[38;5;241;43m.\u001b[39;49m\u001b[43mx\u001b[49m\u001b[43m[\u001b[49m\u001b[43m[\u001b[49m\u001b[38;5;28;43;01mTrue\u001b[39;49;00m\u001b[43m,\u001b[49m\u001b[43m \u001b[49m\u001b[38;5;28;43;01mTrue\u001b[39;49;00m\u001b[43m,\u001b[49m\u001b[43m \u001b[49m\u001b[38;5;28;43;01mFalse\u001b[39;49;00m\u001b[43m,\u001b[49m\u001b[43m \u001b[49m\u001b[38;5;28;43;01mTrue\u001b[39;49;00m\u001b[43m]\u001b[49m\u001b[43m]\u001b[49m\n",
      "File \u001b[1;32mc:\\Users\\Masud Karim\\.conda\\envs\\PytorchGeometric8\\lib\\site-packages\\torch_sparse\\tensor.py:659\u001b[0m, in \u001b[0;36m__getitem__\u001b[1;34m(self, index)\u001b[0m\n\u001b[0;32m    657\u001b[0m \u001b[38;5;28;01melif\u001b[39;00m torch\u001b[38;5;241m.\u001b[39mis_tensor(item):\n\u001b[0;32m    658\u001b[0m     \u001b[38;5;28;01mif\u001b[39;00m item\u001b[38;5;241m.\u001b[39mdtype \u001b[38;5;241m==\u001b[39m torch\u001b[38;5;241m.\u001b[39mbool:\n\u001b[1;32m--> 659\u001b[0m         out \u001b[38;5;241m=\u001b[39m \u001b[43mout\u001b[49m\u001b[38;5;241;43m.\u001b[39;49m\u001b[43mmasked_select\u001b[49m\u001b[43m(\u001b[49m\u001b[43mdim\u001b[49m\u001b[43m,\u001b[49m\u001b[43m \u001b[49m\u001b[43mitem\u001b[49m\u001b[43m)\u001b[49m\n\u001b[0;32m    660\u001b[0m         dim \u001b[38;5;241m+\u001b[39m\u001b[38;5;241m=\u001b[39m \u001b[38;5;241m1\u001b[39m\n\u001b[0;32m    661\u001b[0m     \u001b[38;5;28;01melif\u001b[39;00m item\u001b[38;5;241m.\u001b[39mdtype \u001b[38;5;241m==\u001b[39m torch\u001b[38;5;241m.\u001b[39mlong:\n",
      "File \u001b[1;32mc:\\Users\\Masud Karim\\.conda\\envs\\PytorchGeometric8\\lib\\site-packages\\torch_sparse\\masked_select.py:92\u001b[0m, in \u001b[0;36m<lambda>\u001b[1;34m(self, dim, mask)\u001b[0m\n\u001b[0;32m     86\u001b[0m         value \u001b[38;5;241m=\u001b[39m value[mask]\n\u001b[0;32m     88\u001b[0m     \u001b[38;5;28;01mreturn\u001b[39;00m SparseTensor(row\u001b[38;5;241m=\u001b[39mrow, rowptr\u001b[38;5;241m=\u001b[39m\u001b[38;5;28;01mNone\u001b[39;00m, col\u001b[38;5;241m=\u001b[39mcol, value\u001b[38;5;241m=\u001b[39mvalue,\n\u001b[0;32m     89\u001b[0m                         sparse_sizes\u001b[38;5;241m=\u001b[39msrc\u001b[38;5;241m.\u001b[39msparse_sizes(), is_sorted\u001b[38;5;241m=\u001b[39m\u001b[38;5;28;01mTrue\u001b[39;00m)\n\u001b[1;32m---> 92\u001b[0m SparseTensor\u001b[38;5;241m.\u001b[39mmasked_select \u001b[38;5;241m=\u001b[39m \u001b[38;5;28;01mlambda\u001b[39;00m \u001b[38;5;28mself\u001b[39m, dim, mask: \u001b[43mmasked_select\u001b[49m\u001b[43m(\u001b[49m\n\u001b[0;32m     93\u001b[0m \u001b[43m    \u001b[49m\u001b[38;5;28;43mself\u001b[39;49m\u001b[43m,\u001b[49m\u001b[43m \u001b[49m\u001b[43mdim\u001b[49m\u001b[43m,\u001b[49m\u001b[43m \u001b[49m\u001b[43mmask\u001b[49m\u001b[43m)\u001b[49m\n\u001b[0;32m     94\u001b[0m tmp \u001b[38;5;241m=\u001b[39m \u001b[38;5;28;01mlambda\u001b[39;00m \u001b[38;5;28mself\u001b[39m, mask, layout\u001b[38;5;241m=\u001b[39m\u001b[38;5;28;01mNone\u001b[39;00m: masked_select_nnz(  \u001b[38;5;66;03m# noqa\u001b[39;00m\n\u001b[0;32m     95\u001b[0m     \u001b[38;5;28mself\u001b[39m, mask, layout)\n\u001b[0;32m     96\u001b[0m SparseTensor\u001b[38;5;241m.\u001b[39mmasked_select_nnz \u001b[38;5;241m=\u001b[39m tmp\n",
      "File \u001b[1;32mc:\\Users\\Masud Karim\\.conda\\envs\\PytorchGeometric8\\lib\\site-packages\\torch_sparse\\masked_select.py:19\u001b[0m, in \u001b[0;36mmasked_select\u001b[1;34m(src, dim, mask)\u001b[0m\n\u001b[0;32m     16\u001b[0m row, col, value \u001b[38;5;241m=\u001b[39m src\u001b[38;5;241m.\u001b[39mcoo()\n\u001b[0;32m     17\u001b[0m rowcount \u001b[38;5;241m=\u001b[39m src\u001b[38;5;241m.\u001b[39mstorage\u001b[38;5;241m.\u001b[39mrowcount()\n\u001b[1;32m---> 19\u001b[0m rowcount \u001b[38;5;241m=\u001b[39m \u001b[43mrowcount\u001b[49m\u001b[43m[\u001b[49m\u001b[43mmask\u001b[49m\u001b[43m]\u001b[49m\n\u001b[0;32m     21\u001b[0m mask \u001b[38;5;241m=\u001b[39m mask[row]\n\u001b[0;32m     22\u001b[0m row \u001b[38;5;241m=\u001b[39m torch\u001b[38;5;241m.\u001b[39marange(rowcount\u001b[38;5;241m.\u001b[39msize(\u001b[38;5;241m0\u001b[39m),\n\u001b[0;32m     23\u001b[0m                    device\u001b[38;5;241m=\u001b[39mrow\u001b[38;5;241m.\u001b[39mdevice)\u001b[38;5;241m.\u001b[39mrepeat_interleave(rowcount)\n",
      "\u001b[1;31mIndexError\u001b[0m: The shape of the mask [4] at index 0 does not match the shape of the indexed tensor [65755] at index 0"
     ]
    }
   ],
   "source": [
    "in_memory_nell_dataset[0].x[[True, True, False, True]]"
   ]
  },
  {
   "cell_type": "code",
   "execution_count": 2,
   "metadata": {},
   "outputs": [],
   "source": [
    "from torch_geometric.utils.convert import to_networkx\n",
    "import networkx as nx"
   ]
  },
  {
   "cell_type": "code",
   "execution_count": 3,
   "metadata": {},
   "outputs": [],
   "source": [
    "citeseer = get_citeseer_dataset()"
   ]
  },
  {
   "cell_type": "code",
   "execution_count": null,
   "metadata": {},
   "outputs": [],
   "source": []
  },
  {
   "cell_type": "code",
   "execution_count": 4,
   "metadata": {},
   "outputs": [],
   "source": [
    "G = to_networkx(citeseer[0])"
   ]
  },
  {
   "cell_type": "code",
   "execution_count": 6,
   "metadata": {},
   "outputs": [],
   "source": [
    "nx.write_edgelist(G, \"citeseer.edgelist\")"
   ]
  },
  {
   "cell_type": "code",
   "execution_count": null,
   "metadata": {},
   "outputs": [],
   "source": []
  }
 ],
 "metadata": {
  "kernelspec": {
   "display_name": "PytorchGeometric",
   "language": "python",
   "name": "python3"
  },
  "language_info": {
   "codemirror_mode": {
    "name": "ipython",
    "version": 3
   },
   "file_extension": ".py",
   "mimetype": "text/x-python",
   "name": "python",
   "nbconvert_exporter": "python",
   "pygments_lexer": "ipython3",
   "version": "3.11.5"
  }
 },
 "nbformat": 4,
 "nbformat_minor": 2
}
