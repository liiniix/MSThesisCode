{
 "cells": [
  {
   "cell_type": "code",
   "execution_count": null,
   "metadata": {},
   "outputs": [],
   "source": [
    "from torch_geometric.datasets import Planetoid, CitationFull, NELL\n",
    "from Proposed.proposed_dataset import ProposedDataset\n",
    "import torch_geometric.transforms as T\n",
    "\n",
    "\n",
    "DATASET_ROOT_FOLDER = \"Datasets\"\n",
    "\n",
    "def get_citeseer_dataset():\n",
    "    dataset = Planetoid(root = DATASET_ROOT_FOLDER,\n",
    "                        name= \"CiteSeer\",\n",
    "                        split='random')\n",
    "    \n",
    "    return dataset\n",
    "\n",
    "def get_cora_dataset():\n",
    "    dataset = Planetoid(root = DATASET_ROOT_FOLDER,\n",
    "                        name= \"Cora\",\n",
    "                        split='random')\n",
    "    \n",
    "    return dataset\n",
    "\n",
    "\n",
    "def get_pubmed_dataset():\n",
    "    dataset = Planetoid(root = DATASET_ROOT_FOLDER,\n",
    "                        name= \"PubMed\",\n",
    "                        split='random')\n",
    "    \n",
    "    return dataset\n",
    "\n",
    "def get_nell_dataset():\n",
    "\n",
    "    transform = T.RandomNodeSplit(split='random')\n",
    "\n",
    "    dataset = NELL(root = DATASET_ROOT_FOLDER, transform=transform)\n",
    "    \n",
    "    return dataset\n",
    "\n",
    "\n",
    "def get_proposed_dataset():\n",
    "    dataset = ProposedDataset(root = DATASET_ROOT_FOLDER)\n",
    "    \n",
    "    return dataset"
   ]
  },
  {
   "cell_type": "code",
   "execution_count": null,
   "metadata": {},
   "outputs": [],
   "source": [
    "from torch_sparse import SparseTensor\n",
    "\n",
    "citeseer = get_citeseer_dataset()\n",
    "cora = get_cora_dataset()\n",
    "pubmed = get_pubmed_dataset()\n",
    "nell = get_nell_dataset()"
   ]
  },
  {
   "cell_type": "code",
   "execution_count": null,
   "metadata": {},
   "outputs": [],
   "source": [
    "citeseer_classnames, citeseer_class_counts = citeseer[0].y.unique(return_counts=True)\n",
    "cora_classnames, cora_class_counts = cora[0].y.unique(return_counts=True)\n",
    "pubmed_classnames, pubmed_class_counts = pubmed[0].y.unique(return_counts=True)\n",
    "nell_classnames, nell_class_counts = nell[0].y.unique(return_counts=True)\n",
    "\n"
   ]
  },
  {
   "cell_type": "code",
   "execution_count": null,
   "metadata": {},
   "outputs": [],
   "source": [
    "import matplotlib.pyplot as plt\n",
    "\n",
    "%matplotlib inline"
   ]
  },
  {
   "cell_type": "code",
   "execution_count": null,
   "metadata": {},
   "outputs": [],
   "source": [
    "plt.bar(citeseer_classnames, citeseer_class_counts, color ='maroon', width = 0.4)\n",
    "plt.xlabel(\"Citeseer Classnames\")\n",
    "plt.ylabel(\"Citeseer Class Counts\")"
   ]
  },
  {
   "cell_type": "code",
   "execution_count": null,
   "metadata": {},
   "outputs": [],
   "source": [
    "plt.bar(cora_classnames, cora_class_counts, color ='maroon', width = 0.4)\n",
    "plt.xlabel(\"Cora Classnames\")\n",
    "plt.ylabel(\"Cora Class Counts\")"
   ]
  },
  {
   "cell_type": "code",
   "execution_count": null,
   "metadata": {},
   "outputs": [],
   "source": [
    "plt.bar(pubmed_classnames, pubmed_class_counts, color ='maroon', width = 0.4)\n",
    "plt.xlabel(\"Pubmed Classnames\")\n",
    "plt.ylabel(\"Pubmed Class Counts\")"
   ]
  },
  {
   "cell_type": "code",
   "execution_count": null,
   "metadata": {},
   "outputs": [],
   "source": [
    "plt.bar(nell_classnames, nell_class_counts, color ='maroon', width = 10)\n",
    "plt.xlabel(\"Nell Classnames\")\n",
    "plt.ylabel(\"Nell Class Counts\")"
   ]
  },
  {
   "cell_type": "code",
   "execution_count": 20,
   "metadata": {},
   "outputs": [
    {
     "data": {
      "text/plain": [
       "tensor([351, 217, 418, 818, 426, 298, 180])"
      ]
     },
     "execution_count": 20,
     "metadata": {},
     "output_type": "execute_result"
    }
   ],
   "source": [
    "cora_class_counts"
   ]
  },
  {
   "cell_type": "code",
   "execution_count": null,
   "metadata": {},
   "outputs": [],
   "source": []
  }
 ],
 "metadata": {
  "kernelspec": {
   "display_name": "PytorchGeometric",
   "language": "python",
   "name": "python3"
  },
  "language_info": {
   "codemirror_mode": {
    "name": "ipython",
    "version": 3
   },
   "file_extension": ".py",
   "mimetype": "text/x-python",
   "name": "python",
   "nbconvert_exporter": "python",
   "pygments_lexer": "ipython3",
   "version": "3.10.13"
  }
 },
 "nbformat": 4,
 "nbformat_minor": 2
}
