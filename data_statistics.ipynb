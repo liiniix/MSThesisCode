{
 "cells": [
  {
   "cell_type": "code",
   "execution_count": 1,
   "metadata": {},
   "outputs": [],
   "source": [
    "from torch_geometric.datasets import Planetoid, CitationFull, NELL\n",
    "from Proposed.proposed_dataset import ProposedDataset\n",
    "import torch_geometric.transforms as T\n",
    "\n",
    "\n",
    "DATASET_ROOT_FOLDER = \"Datasets\"\n",
    "\n",
    "def get_citeseer_dataset():\n",
    "    dataset = Planetoid(root = DATASET_ROOT_FOLDER,\n",
    "                        name= \"CiteSeer\",\n",
    "                        split='random')\n",
    "    \n",
    "    return dataset\n",
    "\n",
    "def get_cora_dataset():\n",
    "    dataset = Planetoid(root = DATASET_ROOT_FOLDER,\n",
    "                        name= \"Cora\",\n",
    "                        split='random')\n",
    "    \n",
    "    return dataset\n",
    "\n",
    "\n",
    "def get_pubmed_dataset():\n",
    "    dataset = Planetoid(root = DATASET_ROOT_FOLDER,\n",
    "                        name= \"PubMed\",\n",
    "                        split='random')\n",
    "    \n",
    "    return dataset\n",
    "\n",
    "def get_nell_dataset():\n",
    "\n",
    "    transform = T.RandomNodeSplit(split='random')\n",
    "\n",
    "    dataset = NELL(root = DATASET_ROOT_FOLDER, transform=transform)\n",
    "    \n",
    "    return dataset\n",
    "\n",
    "\n",
    "def get_proposed_dataset():\n",
    "    dataset = ProposedDataset(root = DATASET_ROOT_FOLDER)\n",
    "    \n",
    "    return dataset"
   ]
  },
  {
   "cell_type": "code",
   "execution_count": 4,
   "metadata": {},
   "outputs": [],
   "source": [
    "citeseer = get_citeseer_dataset()\n",
    "cora = get_cora_dataset()\n",
    "pubmed = get_pubmed_dataset()\n",
    "nell = get_nell_dataset()"
   ]
  },
  {
   "cell_type": "code",
   "execution_count": 8,
   "metadata": {},
   "outputs": [
    {
     "data": {
      "text/plain": [
       "tensor([0, 1, 2, 3, 4, 5])"
      ]
     },
     "execution_count": 8,
     "metadata": {},
     "output_type": "execute_result"
    }
   ],
   "source": [
    "citeseer[0].y.unique(re)"
   ]
  },
  {
   "cell_type": "code",
   "execution_count": null,
   "metadata": {},
   "outputs": [],
   "source": []
  }
 ],
 "metadata": {
  "kernelspec": {
   "display_name": "PytorchGeometric",
   "language": "python",
   "name": "python3"
  },
  "language_info": {
   "codemirror_mode": {
    "name": "ipython",
    "version": 3
   },
   "file_extension": ".py",
   "mimetype": "text/x-python",
   "name": "python",
   "nbconvert_exporter": "python",
   "pygments_lexer": "ipython3",
   "version": "3.11.7"
  }
 },
 "nbformat": 4,
 "nbformat_minor": 2
}
