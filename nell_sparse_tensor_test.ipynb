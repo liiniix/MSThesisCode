{
 "cells": [
  {
   "cell_type": "code",
   "execution_count": 1,
   "metadata": {},
   "outputs": [],
   "source": [
    "from torch_geometric.datasets import Planetoid, CitationFull, NELL\n",
    "from Proposed.proposed_dataset import ProposedDataset\n",
    "import torch_geometric.transforms as T\n",
    "\n",
    "\n",
    "DATASET_ROOT_FOLDER = \"Datasets\"\n",
    "\n",
    "def get_citeseer_dataset():\n",
    "    dataset = Planetoid(root = DATASET_ROOT_FOLDER,\n",
    "                        name= \"CiteSeer\",\n",
    "                        split='random')\n",
    "    \n",
    "    return dataset\n",
    "\n",
    "def get_cora_dataset():\n",
    "    dataset = Planetoid(root = DATASET_ROOT_FOLDER,\n",
    "                        name= \"Cora\",\n",
    "                        split='random')\n",
    "    \n",
    "    return dataset\n",
    "\n",
    "\n",
    "def get_pubmed_dataset():\n",
    "    dataset = Planetoid(root = DATASET_ROOT_FOLDER,\n",
    "                        name= \"PubMed\",\n",
    "                        split='random')\n",
    "    \n",
    "    return dataset\n",
    "\n",
    "def get_nell_dataset():\n",
    "\n",
    "    transform = T.RandomNodeSplit(split='random')\n",
    "\n",
    "    dataset = NELL(root = DATASET_ROOT_FOLDER, transform=transform)\n",
    "    \n",
    "    return dataset\n",
    "\n",
    "\n",
    "def get_proposed_dataset():\n",
    "    dataset = ProposedDataset(root = DATASET_ROOT_FOLDER)\n",
    "    \n",
    "    return dataset"
   ]
  },
  {
   "cell_type": "code",
   "execution_count": 2,
   "metadata": {},
   "outputs": [],
   "source": [
    "dataset = get_nell_dataset()"
   ]
  },
  {
   "cell_type": "code",
   "execution_count": 3,
   "metadata": {},
   "outputs": [],
   "source": [
    "device = 'cuda'"
   ]
  },
  {
   "cell_type": "code",
   "execution_count": 4,
   "metadata": {},
   "outputs": [
    {
     "data": {
      "text/plain": [
       "NELL()"
      ]
     },
     "execution_count": 4,
     "metadata": {},
     "output_type": "execute_result"
    }
   ],
   "source": [
    "dataset"
   ]
  },
  {
   "cell_type": "code",
   "execution_count": 15,
   "metadata": {},
   "outputs": [
    {
     "data": {
      "text/plain": [
       "Data(x=[65755, 61278, nnz=426664], edge_index=[2, 251550], y=[65755], train_mask=[65755], val_mask=[65755], test_mask=[65755])"
      ]
     },
     "execution_count": 15,
     "metadata": {},
     "output_type": "execute_result"
    }
   ],
   "source": [
    "dataset[0]"
   ]
  },
  {
   "cell_type": "code",
   "execution_count": 6,
   "metadata": {},
   "outputs": [
    {
     "name": "stderr",
     "output_type": "stream",
     "text": [
      "c:\\Users\\Masud Karim\\.conda\\envs\\PytorchGeometric8\\lib\\site-packages\\torch_geometric\\data\\storage.py:327: UserWarning: Unable to accurately infer 'num_nodes' from the attribute set '{'test_mask', 'edge_index', 'val_mask', 'y', 'train_mask', 'x'}'. Please explicitly set 'num_nodes' as an attribute of 'data' to suppress this warning\n",
      "  warnings.warn(\n"
     ]
    },
    {
     "data": {
      "text/plain": [
       "SparseTensor(row=tensor([    0,     0,     0,  ..., 65752, 65753, 65754]),\n",
       "             col=tensor([    0,     1,     2,  ..., 61275, 61276, 61277]),\n",
       "             val=tensor([1., 1., 1.,  ..., 1., 1., 1.]),\n",
       "             size=(65755, 61278), nnz=426664, density=0.01%)"
      ]
     },
     "execution_count": 6,
     "metadata": {},
     "output_type": "execute_result"
    }
   ],
   "source": [
    "dataset[0].x"
   ]
  },
  {
   "cell_type": "code",
   "execution_count": 7,
   "metadata": {},
   "outputs": [],
   "source": [
    "from torch_sparse import SparseTensor\n"
   ]
  },
  {
   "cell_type": "code",
   "execution_count": 16,
   "metadata": {},
   "outputs": [],
   "source": [
    "pd = get_pubmed_dataset()"
   ]
  },
  {
   "cell_type": "code",
   "execution_count": 18,
   "metadata": {},
   "outputs": [
    {
     "data": {
      "text/plain": [
       "Data(x=[19717, 500], edge_index=[2, 88648], y=[19717], train_mask=[19717], val_mask=[19717], test_mask=[19717])"
      ]
     },
     "execution_count": 18,
     "metadata": {},
     "output_type": "execute_result"
    }
   ],
   "source": [
    "pd[0]"
   ]
  },
  {
   "cell_type": "code",
   "execution_count": null,
   "metadata": {},
   "outputs": [],
   "source": []
  }
 ],
 "metadata": {
  "kernelspec": {
   "display_name": "PytorchGeometric8",
   "language": "python",
   "name": "python3"
  },
  "language_info": {
   "codemirror_mode": {
    "name": "ipython",
    "version": 3
   },
   "file_extension": ".py",
   "mimetype": "text/x-python",
   "name": "python",
   "nbconvert_exporter": "python",
   "pygments_lexer": "ipython3",
   "version": "3.8.18"
  }
 },
 "nbformat": 4,
 "nbformat_minor": 2
}
