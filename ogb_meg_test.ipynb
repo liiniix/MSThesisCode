{
 "cells": [
  {
   "cell_type": "code",
   "execution_count": 123,
   "metadata": {},
   "outputs": [],
   "source": [
    "from torch_geometric.datasets import Planetoid, CitationFull, NELL, LRGBDataset, OGB_MAG\n",
    "from Proposed.proposed_dataset import ProposedDataset\n",
    "import torch_geometric.transforms as T\n",
    "\n",
    "\n",
    "DATASET_ROOT_FOLDER = \"Datasets\"\n",
    "\n",
    "def get_citeseer_dataset():\n",
    "    dataset = Planetoid(root = DATASET_ROOT_FOLDER,\n",
    "                        name= \"CiteSeer\",\n",
    "                        split='random')\n",
    "    \n",
    "    return dataset\n",
    "\n",
    "def get_cora_dataset():\n",
    "    dataset = Planetoid(root = DATASET_ROOT_FOLDER,\n",
    "                        name= \"Cora\",\n",
    "                        split='random')\n",
    "    \n",
    "    return dataset\n",
    "\n",
    "\n",
    "def get_pubmed_dataset():\n",
    "    dataset = Planetoid(root = DATASET_ROOT_FOLDER,\n",
    "                        name= \"PubMed\",\n",
    "                        split='random')\n",
    "    \n",
    "    return dataset\n",
    "\n",
    "def get_nell_dataset():\n",
    "\n",
    "    transform = T.RandomNodeSplit(split='random')\n",
    "\n",
    "    dataset = NELL(root = DATASET_ROOT_FOLDER, transform=transform)\n",
    "    \n",
    "    return dataset\n",
    "\n",
    "\n",
    "def get_proposed_dataset():\n",
    "    dataset = ProposedDataset(root = DATASET_ROOT_FOLDER)\n",
    "    \n",
    "    return dataset\n",
    "\n",
    "def get_lrgb_dataset(split='train'):\n",
    "    dataset = LRGBDataset(root = DATASET_ROOT_FOLDER,\n",
    "                        name= \"Peptides-func\",\n",
    "                        split=split)\n",
    "    \n",
    "    return dataset\n",
    "\n",
    "def get_ogbMeg_dataset():\n",
    "    dataset = OGB_MAG(root = DATASET_ROOT_FOLDER,\n",
    "                      preprocess='metapath2vec')\n",
    "    \n",
    "    return dataset"
   ]
  },
  {
   "cell_type": "code",
   "execution_count": 124,
   "metadata": {},
   "outputs": [],
   "source": [
    "data = get_ogbMeg_dataset()"
   ]
  },
  {
   "cell_type": "code",
   "execution_count": 125,
   "metadata": {},
   "outputs": [
    {
     "data": {
      "text/plain": [
       "ogbn-mag()"
      ]
     },
     "execution_count": 125,
     "metadata": {},
     "output_type": "execute_result"
    }
   ],
   "source": [
    "data"
   ]
  },
  {
   "cell_type": "code",
   "execution_count": 126,
   "metadata": {},
   "outputs": [
    {
     "data": {
      "text/plain": [
       "HeteroData(\n",
       "  paper={\n",
       "    x=[736389, 128],\n",
       "    year=[736389],\n",
       "    y=[736389],\n",
       "    train_mask=[736389],\n",
       "    val_mask=[736389],\n",
       "    test_mask=[736389],\n",
       "  },\n",
       "  author={ x=[1134649, 128] },\n",
       "  institution={ x=[8740, 128] },\n",
       "  field_of_study={ x=[59965, 128] },\n",
       "  (author, affiliated_with, institution)={ edge_index=[2, 1043998] },\n",
       "  (author, writes, paper)={ edge_index=[2, 7145660] },\n",
       "  (paper, cites, paper)={ edge_index=[2, 5416271] },\n",
       "  (paper, has_topic, field_of_study)={ edge_index=[2, 7505078] }\n",
       ")"
      ]
     },
     "execution_count": 126,
     "metadata": {},
     "output_type": "execute_result"
    }
   ],
   "source": [
    "data[0]"
   ]
  },
  {
   "cell_type": "code",
   "execution_count": 127,
   "metadata": {},
   "outputs": [
    {
     "data": {
      "text/plain": [
       "{'x': tensor([[-0.4683,  0.1084, -0.0180,  ..., -0.2873,  0.3973,  0.0373],\n",
       "        [ 0.1035, -0.3703, -0.3722,  ...,  0.5777,  0.0044, -0.3645],\n",
       "        [ 0.3745,  0.0797,  0.3995,  ...,  0.0166, -0.5806, -0.1265],\n",
       "        ...,\n",
       "        [-0.0076,  0.6291,  0.0684,  ...,  0.0279,  0.1603, -0.0225],\n",
       "        [ 0.1657, -0.1814,  0.2352,  ..., -0.4000, -0.4608, -0.7904],\n",
       "        [-0.4098,  0.0470, -0.2027,  ...,  0.1393, -0.1985, -0.6175]])}"
      ]
     },
     "execution_count": 127,
     "metadata": {},
     "output_type": "execute_result"
    }
   ],
   "source": [
    "data[0]['author']"
   ]
  },
  {
   "cell_type": "code",
   "execution_count": 128,
   "metadata": {},
   "outputs": [],
   "source": [
    "homogeneous_data = data[0].to_homogeneous()"
   ]
  },
  {
   "cell_type": "code",
   "execution_count": 129,
   "metadata": {},
   "outputs": [],
   "source": [
    "label, count = homogeneous_data.y.unique(return_counts=True)"
   ]
  },
  {
   "cell_type": "code",
   "execution_count": 130,
   "metadata": {},
   "outputs": [
    {
     "data": {
      "text/plain": [
       "(tensor([ -1,   0,   1,   2,   3,   4,   5,   6,   7,   8,   9,  10,  11,  12,\n",
       "          13,  14,  15,  16,  17,  18,  19,  20,  21,  22,  23,  24,  25,  26,\n",
       "          27,  28,  29,  30,  31,  32,  33,  34,  35,  36,  37,  38,  39,  40,\n",
       "          41,  42,  43,  44,  45,  46,  47,  48,  49,  50,  51,  52,  53,  54,\n",
       "          55,  56,  57,  58,  59,  60,  61,  62,  63,  64,  65,  66,  67,  68,\n",
       "          69,  70,  71,  72,  73,  74,  75,  76,  77,  78,  79,  80,  81,  82,\n",
       "          83,  84,  85,  86,  87,  88,  89,  90,  91,  92,  93,  94,  95,  96,\n",
       "          97,  98,  99, 100, 101, 102, 103, 104, 105, 106, 107, 108, 109, 110,\n",
       "         111, 112, 113, 114, 115, 116, 117, 118, 119, 120, 121, 122, 123, 124,\n",
       "         125, 126, 127, 128, 129, 130, 131, 132, 133, 134, 135, 136, 137, 138,\n",
       "         139, 140, 141, 142, 143, 144, 145, 146, 147, 148, 149, 150, 151, 152,\n",
       "         153, 154, 155, 156, 157, 158, 159, 160, 161, 162, 163, 164, 165, 166,\n",
       "         167, 168, 169, 170, 171, 172, 173, 174, 175, 176, 177, 178, 179, 180,\n",
       "         181, 182, 183, 184, 185, 186, 187, 188, 189, 190, 191, 192, 193, 194,\n",
       "         195, 196, 197, 198, 199, 200, 201, 202, 203, 204, 205, 206, 207, 208,\n",
       "         209, 210, 211, 212, 213, 214, 215, 216, 217, 218, 219, 220, 221, 222,\n",
       "         223, 224, 225, 226, 227, 228, 229, 230, 231, 232, 233, 234, 235, 236,\n",
       "         237, 238, 239, 240, 241, 242, 243, 244, 245, 246, 247, 248, 249, 250,\n",
       "         251, 252, 253, 254, 255, 256, 257, 258, 259, 260, 261, 262, 263, 264,\n",
       "         265, 266, 267, 268, 269, 270, 271, 272, 273, 274, 275, 276, 277, 278,\n",
       "         279, 280, 281, 282, 283, 284, 285, 286, 287, 288, 289, 290, 291, 292,\n",
       "         293, 294, 295, 296, 297, 298, 299, 300, 301, 302, 303, 304, 305, 306,\n",
       "         307, 308, 309, 310, 311, 312, 313, 314, 315, 316, 317, 318, 319, 320,\n",
       "         321, 322, 323, 324, 325, 326, 327, 328, 329, 330, 331, 332, 333, 334,\n",
       "         335, 336, 337, 338, 339, 340, 341, 342, 343, 344, 345, 346, 347, 348]),\n",
       " tensor([1203354,    2174,   30902,     201,     449,     236,    7101,    1080,\n",
       "            4414,     250,   14910,     278,     752,    1398,    2245,     521,\n",
       "             234,     893,     889,    3822,     818,    1303,     915,    2517,\n",
       "            1148,     275,    1626,     251,     393,    2198,    1235,     233,\n",
       "            3129,     907,    4965,    2546,    9756,     251,    2118,    4582,\n",
       "             204,     304,    1471,     800,    1263,    1176,    7692,     503,\n",
       "             309,    5606,     636,     826,    4143,    6489,     440,     871,\n",
       "             337,     760,     760,    1796,     582,     246,    1019,     437,\n",
       "             479,     769,     359,     799,     272,    1934,     486,    1497,\n",
       "             441,    5156,     238,     279,    2686,     509,    4953,    1496,\n",
       "             634,    1194,    1110,    1365,    3289,    9983,    2205,    2427,\n",
       "             336,     243,    1909,     695,     856,    1488,     760,     441,\n",
       "            1498,    3092,    1150,     284,    2127,    1632,     661,     389,\n",
       "             842,     403,    1165,    4697,    1500,     927,    1539,    2622,\n",
       "             299,    9167,    1781,    2043,    5475,    3361,     453,     649,\n",
       "             512,     383,     398,    1916,    2640,     235,     230,    3273,\n",
       "             861,    2015,     685,    1767,    1093,    4635,     268,   30671,\n",
       "             578,    1579,     372,    2682,    2987,    2435,    3392,     418,\n",
       "             202,    5752,    2790,    2810,     511,     897,    1090,     253,\n",
       "             208,     563,     269,    3782,     656,     872,     707,     242,\n",
       "             883,    2752,    1691,     574,     957,     693,    4844,    2883,\n",
       "            2138,     671,    1462,    5424,    1629,    2755,     318,     223,\n",
       "             255,     218,     585,     734,     422,    2374,    2697,    1684,\n",
       "            2051,    1384,    1658,    7710,     501,    2047,   15564,     670,\n",
       "            1526,    2628,   12534,     348,     216,    1176,     775,     814,\n",
       "            1081,    1437,    1446,     593,     307,    1723,     984,     201,\n",
       "            1785,     361,     523,     403,     834,     229,     365,    6574,\n",
       "             200,     215,     454,    1357,    6452,     422,    6004,     438,\n",
       "            1732,     902,     277,    1942,     340,    1485,    1441,     330,\n",
       "             217,    4707,    4411,     767,    1685,    8616,     621,    3492,\n",
       "             385,    1597,     697,     454,    1177,     486,    1975,     350,\n",
       "            3716,    1994,    3730,     985,     936,    1780,    2073,     471,\n",
       "             657,    2691,     687,   24804,     906,     344,    1254,    9065,\n",
       "             200,     298,    2734,   11253,    1645,     642,     223,     313,\n",
       "             370,     409,     572,     279,     302,    2056,    7483,    1386,\n",
       "             577,     677,   18637,     213,   24463,     486,     391,     310,\n",
       "             314,     277,    5839,     805,    4092,     493,    1779,    1517,\n",
       "             972,    2223,     740,     228,    1121,   27542,     262,    3285,\n",
       "             340,    6346,    1073,     646,     657,     939,     819,     410,\n",
       "           16836,    3133,     543,    1513,     954,     246,     659,    1055,\n",
       "             333,     286,     216,    1913,     568,    1973,     267,     273,\n",
       "             204,     231,     234,     261,     224,     265,     657,     282,\n",
       "             234,     335,     271,     408,     296,     343,     220,     433,\n",
       "             280,     237,     269,     262,     431,     313]))"
      ]
     },
     "execution_count": 130,
     "metadata": {},
     "output_type": "execute_result"
    }
   ],
   "source": [
    "homogeneous_data.y.unique(return_counts=True)"
   ]
  },
  {
   "cell_type": "code",
   "execution_count": 131,
   "metadata": {},
   "outputs": [
    {
     "data": {
      "text/plain": [
       "<BarContainer object of 349 artists>"
      ]
     },
     "execution_count": 131,
     "metadata": {},
     "output_type": "execute_result"
    },
    {
     "data": {
      "image/png": "[encoded data removed]",
      "text/plain": [
       "<Figure size 640x480 with 1 Axes>"
      ]
     },
     "metadata": {},
     "output_type": "display_data"
    }
   ],
   "source": [
    "import matplotlib.pyplot as plt\n",
    "import numpy as np\n",
    "#plt.bar(label.numpy(), count.numpy(), width=100)\n",
    "plt.bar(label[1:], count[1:], color ='maroon', width = 1)\n"
   ]
  },
  {
   "cell_type": "code",
   "execution_count": 132,
   "metadata": {},
   "outputs": [
    {
     "name": "stdout",
     "output_type": "stream",
     "text": [
      "Data(\n",
      "  num_nodes_dict={\n",
      "    author=1134649,\n",
      "    field_of_study=59965,\n",
      "    institution=8740,\n",
      "    paper=736389,\n",
      "  },\n",
      "  edge_index_dict={\n",
      "    (author, affiliated_with, institution)=[2, 1043998],\n",
      "    (author, writes, paper)=[2, 7145660],\n",
      "    (paper, cites, paper)=[2, 5416271],\n",
      "    (paper, has_topic, field_of_study)=[2, 7505078],\n",
      "  },\n",
      "  x_dict={ paper=[736389, 128] },\n",
      "  node_year={ paper=[736389, 1] },\n",
      "  edge_reltype={\n",
      "    (author, affiliated_with, institution)=[1043998, 1],\n",
      "    (author, writes, paper)=[7145660, 1],\n",
      "    (paper, cites, paper)=[5416271, 1],\n",
      "    (paper, has_topic, field_of_study)=[7505078, 1],\n",
      "  },\n",
      "  y_dict={ paper=[736389, 1] }\n",
      ")\n"
     ]
    },
    {
     "ename": "AttributeError",
     "evalue": "'GlobalStorage' object has no attribute 'to_homogeneous'",
     "output_type": "error",
     "traceback": [
      "\u001b[0;31m---------------------------------------------------------------------------\u001b[0m",
      "\u001b[0;31mAttributeError\u001b[0m                            Traceback (most recent call last)",
      "Cell \u001b[0;32mIn[132], line 15\u001b[0m\n\u001b[1;32m     12\u001b[0m train_idx, valid_idx, test_idx \u001b[38;5;241m=\u001b[39m split_idx[\u001b[38;5;124m\"\u001b[39m\u001b[38;5;124mtrain\u001b[39m\u001b[38;5;124m\"\u001b[39m], split_idx[\u001b[38;5;124m\"\u001b[39m\u001b[38;5;124mvalid\u001b[39m\u001b[38;5;124m\"\u001b[39m], split_idx[\u001b[38;5;124m\"\u001b[39m\u001b[38;5;124mtest\u001b[39m\u001b[38;5;124m\"\u001b[39m]\n\u001b[1;32m     13\u001b[0m graph \u001b[38;5;241m=\u001b[39m ogb_dataset[\u001b[38;5;241m0\u001b[39m]\n\u001b[0;32m---> 15\u001b[0m \u001b[43mogb_dataset\u001b[49m\u001b[43m[\u001b[49m\u001b[38;5;241;43m0\u001b[39;49m\u001b[43m]\u001b[49m\u001b[38;5;241;43m.\u001b[39;49m\u001b[43mto_homogeneous\u001b[49m()\n",
      "File \u001b[0;32m~/anaconda3/envs/ThakiPytorchGeometric/lib/python3.8/site-packages/torch_geometric/data/data.py:482\u001b[0m, in \u001b[0;36mData.__getattr__\u001b[0;34m(self, key)\u001b[0m\n\u001b[1;32m    476\u001b[0m \u001b[38;5;28;01mif\u001b[39;00m \u001b[38;5;124m'\u001b[39m\u001b[38;5;124m_store\u001b[39m\u001b[38;5;124m'\u001b[39m \u001b[38;5;129;01mnot\u001b[39;00m \u001b[38;5;129;01min\u001b[39;00m \u001b[38;5;28mself\u001b[39m\u001b[38;5;241m.\u001b[39m\u001b[38;5;18m__dict__\u001b[39m:\n\u001b[1;32m    477\u001b[0m     \u001b[38;5;28;01mraise\u001b[39;00m \u001b[38;5;167;01mRuntimeError\u001b[39;00m(\n\u001b[1;32m    478\u001b[0m         \u001b[38;5;124m\"\u001b[39m\u001b[38;5;124mThe \u001b[39m\u001b[38;5;124m'\u001b[39m\u001b[38;5;124mdata\u001b[39m\u001b[38;5;124m'\u001b[39m\u001b[38;5;124m object was created by an older version of PyG. \u001b[39m\u001b[38;5;124m\"\u001b[39m\n\u001b[1;32m    479\u001b[0m         \u001b[38;5;124m\"\u001b[39m\u001b[38;5;124mIf this error occurred while loading an already existing \u001b[39m\u001b[38;5;124m\"\u001b[39m\n\u001b[1;32m    480\u001b[0m         \u001b[38;5;124m\"\u001b[39m\u001b[38;5;124mdataset, remove the \u001b[39m\u001b[38;5;124m'\u001b[39m\u001b[38;5;124mprocessed/\u001b[39m\u001b[38;5;124m'\u001b[39m\u001b[38;5;124m directory in the dataset\u001b[39m\u001b[38;5;124m'\u001b[39m\u001b[38;5;124ms \u001b[39m\u001b[38;5;124m\"\u001b[39m\n\u001b[1;32m    481\u001b[0m         \u001b[38;5;124m\"\u001b[39m\u001b[38;5;124mroot folder and try again.\u001b[39m\u001b[38;5;124m\"\u001b[39m)\n\u001b[0;32m--> 482\u001b[0m \u001b[38;5;28;01mreturn\u001b[39;00m \u001b[38;5;28;43mgetattr\u001b[39;49m\u001b[43m(\u001b[49m\u001b[38;5;28;43mself\u001b[39;49m\u001b[38;5;241;43m.\u001b[39;49m\u001b[43m_store\u001b[49m\u001b[43m,\u001b[49m\u001b[43m \u001b[49m\u001b[43mkey\u001b[49m\u001b[43m)\u001b[49m\n",
      "File \u001b[0;32m~/anaconda3/envs/ThakiPytorchGeometric/lib/python3.8/site-packages/torch_geometric/data/storage.py:87\u001b[0m, in \u001b[0;36mBaseStorage.__getattr__\u001b[0;34m(self, key)\u001b[0m\n\u001b[1;32m     85\u001b[0m     \u001b[38;5;28;01mreturn\u001b[39;00m \u001b[38;5;28mself\u001b[39m[key]\n\u001b[1;32m     86\u001b[0m \u001b[38;5;28;01mexcept\u001b[39;00m \u001b[38;5;167;01mKeyError\u001b[39;00m:\n\u001b[0;32m---> 87\u001b[0m     \u001b[38;5;28;01mraise\u001b[39;00m \u001b[38;5;167;01mAttributeError\u001b[39;00m(\n\u001b[1;32m     88\u001b[0m         \u001b[38;5;124mf\u001b[39m\u001b[38;5;124m\"\u001b[39m\u001b[38;5;124m'\u001b[39m\u001b[38;5;132;01m{\u001b[39;00m\u001b[38;5;28mself\u001b[39m\u001b[38;5;241m.\u001b[39m\u001b[38;5;18m__class__\u001b[39m\u001b[38;5;241m.\u001b[39m\u001b[38;5;18m__name__\u001b[39m\u001b[38;5;132;01m}\u001b[39;00m\u001b[38;5;124m'\u001b[39m\u001b[38;5;124m object has no attribute \u001b[39m\u001b[38;5;124m'\u001b[39m\u001b[38;5;132;01m{\u001b[39;00mkey\u001b[38;5;132;01m}\u001b[39;00m\u001b[38;5;124m'\u001b[39m\u001b[38;5;124m\"\u001b[39m\n\u001b[1;32m     89\u001b[0m     ) \u001b[38;5;28;01mfrom\u001b[39;00m \u001b[38;5;28;01mNone\u001b[39;00m\n",
      "\u001b[0;31mAttributeError\u001b[0m: 'GlobalStorage' object has no attribute 'to_homogeneous'"
     ]
    }
   ],
   "source": [
    "# OGB given python dataset has no to_homogeneous method\n",
    "from ogb.nodeproppred import PygNodePropPredDataset\n",
    "from torch_geometric.data import DataLoader\n",
    "\n",
    "ogb_dataset = PygNodePropPredDataset(name = \"ogbn-mag\")\n",
    "\n",
    "\n",
    "print(ogb_dataset[0])\n",
    "\n",
    "\n",
    "split_idx = ogb_dataset.get_idx_split()\n",
    "train_idx, valid_idx, test_idx = split_idx[\"train\"], split_idx[\"valid\"], split_idx[\"test\"]\n",
    "graph = ogb_dataset[0]\n",
    "\n",
    "ogb_dataset[0].to_homogeneous()"
   ]
  },
  {
   "cell_type": "code",
   "execution_count": null,
   "metadata": {},
   "outputs": [],
   "source": []
  },
  {
   "cell_type": "code",
   "execution_count": null,
   "metadata": {},
   "outputs": [],
   "source": []
  },
  {
   "cell_type": "code",
   "execution_count": null,
   "metadata": {},
   "outputs": [],
   "source": []
  },
  {
   "cell_type": "code",
   "execution_count": null,
   "metadata": {},
   "outputs": [],
   "source": []
  },
  {
   "cell_type": "code",
   "execution_count": 133,
   "metadata": {},
   "outputs": [
    {
     "data": {
      "text/plain": [
       "[<matplotlib.lines.Line2D at 0x7faef0100f40>]"
      ]
     },
     "execution_count": 133,
     "metadata": {},
     "output_type": "execute_result"
    },
    {
     "data": {
      "image/png": "[encoded data removed]",
      "text/plain": [
       "<Figure size 640x480 with 1 Axes>"
      ]
     },
     "metadata": {},
     "output_type": "display_data"
    }
   ],
   "source": [
    "# PYG transfromed to homogeneous so that node type are consecutive\n",
    "plt.plot(homogeneous_data.node_type)"
   ]
  },
  {
   "cell_type": "code",
   "execution_count": null,
   "metadata": {},
   "outputs": [
    {
     "data": {
      "text/plain": [
       "HeteroData(\n",
       "  paper={\n",
       "    x=[736389, 128],\n",
       "    year=[736389],\n",
       "    y=[736389],\n",
       "    train_mask=[736389],\n",
       "    val_mask=[736389],\n",
       "    test_mask=[736389],\n",
       "  },\n",
       "  author={ x=[1134649, 128] },\n",
       "  institution={ x=[8740, 128] },\n",
       "  field_of_study={ x=[59965, 128] },\n",
       "  (author, affiliated_with, institution)={ edge_index=[2, 1043998] },\n",
       "  (author, writes, paper)={ edge_index=[2, 7145660] },\n",
       "  (paper, cites, paper)={ edge_index=[2, 5416271] },\n",
       "  (paper, has_topic, field_of_study)={ edge_index=[2, 7505078] }\n",
       ")"
      ]
     },
     "execution_count": 88,
     "metadata": {},
     "output_type": "execute_result"
    }
   ],
   "source": [
    "data[0]"
   ]
  },
  {
   "cell_type": "code",
   "execution_count": null,
   "metadata": {},
   "outputs": [
    {
     "data": {
      "text/plain": [
       "Data(edge_index=[2, 21111007], x=[1939743, 128], year=[1939743], y=[1939743], train_mask=[1939743], val_mask=[1939743], test_mask=[1939743], node_type=[1939743], edge_type=[21111007])"
      ]
     },
     "execution_count": 90,
     "metadata": {},
     "output_type": "execute_result"
    }
   ],
   "source": [
    "# We can move data to cuda\n",
    "homogeneous_data.to('cuda')"
   ]
  },
  {
   "cell_type": "code",
   "execution_count": null,
   "metadata": {},
   "outputs": [
    {
     "name": "stdout",
     "output_type": "stream",
     "text": [
      "torch.Size([736389])\n",
      "torch.Size([736389, 128])\n"
     ]
    }
   ],
   "source": [
    "# node type 0 is paper\n",
    "node_type_paper = homogeneous_data.node_type\n",
    "print(node_type_paper[node_type_paper == 0].shape)\n",
    "print(data[0]['paper']['x'].shape)"
   ]
  },
  {
   "cell_type": "code",
   "execution_count": null,
   "metadata": {},
   "outputs": [
    {
     "name": "stdout",
     "output_type": "stream",
     "text": [
      "torch.Size([1134649])\n",
      "torch.Size([1134649, 128])\n"
     ]
    }
   ],
   "source": [
    "# node type 1 is author\n",
    "node_type_author = homogeneous_data.node_type\n",
    "print(node_type_author[node_type_author == 1].shape)\n",
    "print(data[0]['author']['x'].shape)"
   ]
  },
  {
   "cell_type": "code",
   "execution_count": null,
   "metadata": {},
   "outputs": [
    {
     "name": "stdout",
     "output_type": "stream",
     "text": [
      "torch.Size([8740])\n",
      "torch.Size([8740, 128])\n"
     ]
    }
   ],
   "source": [
    "# node type 2 is institution\n",
    "node_type_institution = homogeneous_data.node_type\n",
    "print(node_type_institution[node_type_institution == 2].shape)\n",
    "print(data[0]['institution']['x'].shape)"
   ]
  },
  {
   "cell_type": "code",
   "execution_count": null,
   "metadata": {},
   "outputs": [
    {
     "name": "stdout",
     "output_type": "stream",
     "text": [
      "torch.Size([59965])\n",
      "torch.Size([59965, 128])\n"
     ]
    }
   ],
   "source": [
    "# node type 3 is field_of_study\n",
    "node_type_field_of_study = homogeneous_data.node_type\n",
    "print(node_type_field_of_study[node_type_field_of_study == 3].shape)\n",
    "print(data[0]['field_of_study']['x'].shape)"
   ]
  },
  {
   "cell_type": "code",
   "execution_count": null,
   "metadata": {},
   "outputs": [],
   "source": []
  }
 ],
 "metadata": {
  "kernelspec": {
   "display_name": "ThakiPytorchGeometric",
   "language": "python",
   "name": "python3"
  },
  "language_info": {
   "codemirror_mode": {
    "name": "ipython",
    "version": 3
   },
   "file_extension": ".py",
   "mimetype": "text/x-python",
   "name": "python",
   "nbconvert_exporter": "python",
   "pygments_lexer": "ipython3",
   "version": "3.8.19"
  }
 },
 "nbformat": 4,
 "nbformat_minor": 2
}
