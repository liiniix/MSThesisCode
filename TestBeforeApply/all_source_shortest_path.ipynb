{
 "cells": [
  {
   "cell_type": "code",
   "execution_count": 1,
   "metadata": {},
   "outputs": [],
   "source": [
    "import networkx as nx"
   ]
  },
  {
   "cell_type": "code",
   "execution_count": 2,
   "metadata": {},
   "outputs": [],
   "source": [
    "import torch\n",
    "from torch_geometric.data import InMemoryDataset, Data\n",
    "\n",
    "\n",
    "class ProposedDataset(InMemoryDataset):\n",
    "    def __init__(self, root, transform=None, pre_transform=None, pre_filter=None):\n",
    "        super().__init__(root, transform, pre_transform, pre_filter)\n",
    "        self.data, self.slices = torch.load(self.processed_paths[0])\n",
    "\n",
    "    @property\n",
    "    def raw_file_names(self):\n",
    "        return ['file.edges', 'file.x']\n",
    "\n",
    "    @property\n",
    "    def processed_file_names(self):\n",
    "        return ['data.pt']\n",
    "\n",
    "    def download(self):\n",
    "        pass\n",
    "\n",
    "    def process(self):\n",
    "        edge_index = torch.tensor([[0, 1, 1, 2, 2, 3, 3, 4],\n",
    "                                   [1, 0, 2, 1, 3, 2, 4, 3]], dtype=torch.long)\n",
    "        x = torch.tensor([[0], [1], [2], [3], [4]], dtype=torch.float)\n",
    "        y = torch.tensor([2, 2, 2, 2, 2])\n",
    "\n",
    "\n",
    "        data = Data(x=x, edge_index=edge_index, y=y)\n",
    "\n",
    "        data.train_mask = torch.tensor([True, True, True, True, True],\n",
    "                                  dtype=torch.bool)\n",
    "        \n",
    "        data.test_mask = torch.tensor([True, True, True, True, True],\n",
    "                                  dtype=torch.bool)\n",
    "        \n",
    "        data.val_mask = torch.tensor([True, True, True, True, True],\n",
    "                                  dtype=torch.bool)\n",
    "        data_list = [data]\n",
    "\n",
    "        torch.save(self.collate(data_list), self.processed_paths[0])"
   ]
  },
  {
   "cell_type": "code",
   "execution_count": 3,
   "metadata": {},
   "outputs": [],
   "source": [
    "DATASET_ROOT_FOLDER = \"Datasets\"\n",
    "\n",
    "def get_proposed_dataset():\n",
    "    dataset = ProposedDataset(root = DATASET_ROOT_FOLDER)\n",
    "    \n",
    "    return dataset"
   ]
  },
  {
   "cell_type": "code",
   "execution_count": 4,
   "metadata": {},
   "outputs": [
    {
     "name": "stderr",
     "output_type": "stream",
     "text": [
      "Processing...\n",
      "Done!\n"
     ]
    }
   ],
   "source": [
    "dataset = get_proposed_dataset()"
   ]
  },
  {
   "cell_type": "code",
   "execution_count": 7,
   "metadata": {},
   "outputs": [],
   "source": [
    "from torch_geometric.utils.convert import to_networkx\n",
    "G = to_networkx(dataset[0])"
   ]
  },
  {
   "cell_type": "code",
   "execution_count": 8,
   "metadata": {},
   "outputs": [
    {
     "data": {
      "text/plain": [
       "<networkx.classes.digraph.DiGraph at 0x27c60247c40>"
      ]
     },
     "execution_count": 8,
     "metadata": {},
     "output_type": "execute_result"
    }
   ],
   "source": [
    "G"
   ]
  },
  {
   "cell_type": "code",
   "execution_count": 11,
   "metadata": {},
   "outputs": [],
   "source": [
    "all_pairs_shortest_path = dict(nx.all_pairs_shortest_path_length(G, cutoff=2))"
   ]
  },
  {
   "cell_type": "code",
   "execution_count": 13,
   "metadata": {},
   "outputs": [
    {
     "data": {
      "text/plain": [
       "{0: {0: 0, 1: 1, 2: 2},\n",
       " 1: {1: 0, 0: 1, 2: 1, 3: 2},\n",
       " 2: {2: 0, 1: 1, 3: 1, 0: 2, 4: 2},\n",
       " 3: {3: 0, 2: 1, 4: 1, 1: 2},\n",
       " 4: {4: 0, 3: 1, 2: 2}}"
      ]
     },
     "execution_count": 13,
     "metadata": {},
     "output_type": "execute_result"
    }
   ],
   "source": [
    "all_pairs_shortest_path"
   ]
  },
  {
   "cell_type": "code",
   "execution_count": 14,
   "metadata": {},
   "outputs": [
    {
     "data": {
      "text/plain": [
       "{1: 0, 0: 1, 2: 1, 3: 2}"
      ]
     },
     "execution_count": 14,
     "metadata": {},
     "output_type": "execute_result"
    }
   ],
   "source": [
    "all_pairs_shortest_path[1]"
   ]
  },
  {
   "cell_type": "code",
   "execution_count": null,
   "metadata": {},
   "outputs": [],
   "source": []
  }
 ],
 "metadata": {
  "kernelspec": {
   "display_name": "PytorchGeometric8",
   "language": "python",
   "name": "python3"
  },
  "language_info": {
   "codemirror_mode": {
    "name": "ipython",
    "version": 3
   },
   "file_extension": ".py",
   "mimetype": "text/x-python",
   "name": "python",
   "nbconvert_exporter": "python",
   "pygments_lexer": "ipython3",
   "version": "3.8.18"
  }
 },
 "nbformat": 4,
 "nbformat_minor": 2
}
