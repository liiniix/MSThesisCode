{
 "cells": [
  {
   "cell_type": "code",
   "execution_count": 1,
   "metadata": {},
   "outputs": [
    {
     "name": "stderr",
     "output_type": "stream",
     "text": [
      "c:\\Users\\Masud Karim\\.conda\\envs\\PytorchGeometric8\\lib\\site-packages\\tqdm\\auto.py:21: TqdmWarning: IProgress not found. Please update jupyter and ipywidgets. See https://ipywidgets.readthedocs.io/en/stable/user_install.html\n",
      "  from .autonotebook import tqdm as notebook_tqdm\n"
     ]
    }
   ],
   "source": [
    "import optuna\n",
    "from optuna.trial import TrialState"
   ]
  },
  {
   "cell_type": "code",
   "execution_count": 4,
   "metadata": {},
   "outputs": [],
   "source": [
    "def objective(trial):\n",
    "    x = trial.suggest_float(\"x\", -10, 10)\n",
    "    \n",
    "    return -(x-2)**2 + 5"
   ]
  },
  {
   "cell_type": "code",
   "execution_count": 5,
   "metadata": {},
   "outputs": [
    {
     "name": "stderr",
     "output_type": "stream",
     "text": [
      "[I 2024-02-03 10:08:32,476] A new study created in memory with name: no-name-d23cb7b7-e68c-4d97-9c4b-2327ceaa93c0\n",
      "[I 2024-02-03 10:08:32,478] Trial 0 finished with value: -31.479900745404045 and parameters: {'x': 8.039859331590765}. Best is trial 0 with value: -31.479900745404045.\n",
      "[I 2024-02-03 10:08:32,479] Trial 1 finished with value: -76.39002671639821 and parameters: {'x': -7.021642129701123}. Best is trial 0 with value: -31.479900745404045.\n",
      "[I 2024-02-03 10:08:32,480] Trial 2 finished with value: -13.625130668383637 and parameters: {'x': -2.3156842642139193}. Best is trial 2 with value: -13.625130668383637.\n",
      "[I 2024-02-03 10:08:32,482] Trial 3 finished with value: -134.5301813061276 and parameters: {'x': -9.81228941848817}. Best is trial 2 with value: -13.625130668383637.\n",
      "[I 2024-02-03 10:08:32,483] Trial 4 finished with value: -60.42131552607144 and parameters: {'x': -6.088344424297931}. Best is trial 2 with value: -13.625130668383637.\n",
      "[I 2024-02-03 10:08:32,484] Trial 5 finished with value: -89.57415283598407 and parameters: {'x': -7.724924310038823}. Best is trial 2 with value: -13.625130668383637.\n",
      "[I 2024-02-03 10:08:32,484] Trial 6 finished with value: 4.8722114629470505 and parameters: {'x': 1.6425247742109264}. Best is trial 6 with value: 4.8722114629470505.\n",
      "[I 2024-02-03 10:08:32,486] Trial 7 finished with value: -106.47304144853065 and parameters: {'x': -8.558079439392879}. Best is trial 6 with value: 4.8722114629470505.\n",
      "[I 2024-02-03 10:08:32,487] Trial 8 finished with value: -22.7515880233809 and parameters: {'x': -3.2679776027789735}. Best is trial 6 with value: 4.8722114629470505.\n",
      "[I 2024-02-03 10:08:32,487] Trial 9 finished with value: -19.721571087750817 and parameters: {'x': 6.972079151396407}. Best is trial 6 with value: 4.8722114629470505.\n",
      "[I 2024-02-03 10:08:32,498] Trial 10 finished with value: 4.438590017661599 and parameters: {'x': 2.7492729691763884}. Best is trial 6 with value: 4.8722114629470505.\n",
      "[I 2024-02-03 10:08:32,504] Trial 11 finished with value: 3.5573297670974187 and parameters: {'x': 3.2011120817403267}. Best is trial 6 with value: 4.8722114629470505.\n",
      "[I 2024-02-03 10:08:32,509] Trial 12 finished with value: 4.4249610799998775 and parameters: {'x': 2.758313207059011}. Best is trial 6 with value: 4.8722114629470505.\n",
      "[I 2024-02-03 10:08:32,515] Trial 13 finished with value: 4.739781881974892 and parameters: {'x': 2.5101157888412273}. Best is trial 6 with value: 4.8722114629470505.\n",
      "[I 2024-02-03 10:08:32,522] Trial 14 finished with value: 0.13022575738519748 and parameters: {'x': -0.20675649826046794}. Best is trial 6 with value: 4.8722114629470505.\n",
      "[I 2024-02-03 10:08:32,529] Trial 15 finished with value: -4.010254090562892 and parameters: {'x': 5.001708528582163}. Best is trial 6 with value: 4.8722114629470505.\n",
      "[I 2024-02-03 10:08:32,535] Trial 16 finished with value: 3.1617384495290155 and parameters: {'x': 0.6441749558032996}. Best is trial 6 with value: 4.8722114629470505.\n",
      "[I 2024-02-03 10:08:32,536] Trial 17 finished with value: -8.310459758381274 and parameters: {'x': 5.648350279013965}. Best is trial 6 with value: 4.8722114629470505.\n",
      "[I 2024-02-03 10:08:32,547] Trial 18 finished with value: -3.126616941005466 and parameters: {'x': -0.8507221788531873}. Best is trial 6 with value: 4.8722114629470505.\n",
      "[I 2024-02-03 10:08:32,547] Trial 19 finished with value: -36.39893576245291 and parameters: {'x': -4.4342004757741975}. Best is trial 6 with value: 4.8722114629470505.\n",
      "[I 2024-02-03 10:08:32,547] Trial 20 finished with value: 4.162743886822466 and parameters: {'x': 1.0849829984215955}. Best is trial 6 with value: 4.8722114629470505.\n",
      "[I 2024-02-03 10:08:32,564] Trial 21 finished with value: 4.624682413743535 and parameters: {'x': 2.6126316889097927}. Best is trial 6 with value: 4.8722114629470505.\n",
      "[I 2024-02-03 10:08:32,564] Trial 22 finished with value: -57.84867944968921 and parameters: {'x': 9.927715903694406}. Best is trial 6 with value: 4.8722114629470505.\n",
      "[I 2024-02-03 10:08:32,564] Trial 23 finished with value: -1.1695224953252144 and parameters: {'x': 4.48385234974328}. Best is trial 6 with value: 4.8722114629470505.\n",
      "[I 2024-02-03 10:08:32,582] Trial 24 finished with value: 4.657840088726861 and parameters: {'x': 1.4150556340359033}. Best is trial 6 with value: 4.8722114629470505.\n",
      "[I 2024-02-03 10:08:32,587] Trial 25 finished with value: -10.871931158199526 and parameters: {'x': -1.9839592314931545}. Best is trial 6 with value: 4.8722114629470505.\n",
      "[I 2024-02-03 10:08:32,589] Trial 26 finished with value: -3.8254232903430694 and parameters: {'x': -0.9707613990933486}. Best is trial 6 with value: 4.8722114629470505.\n",
      "[I 2024-02-03 10:08:32,597] Trial 27 finished with value: 4.618064565242061 and parameters: {'x': 1.3819907486469645}. Best is trial 6 with value: 4.8722114629470505.\n",
      "[I 2024-02-03 10:08:32,597] Trial 28 finished with value: -1.278351736819519 and parameters: {'x': 4.505663931340258}. Best is trial 6 with value: 4.8722114629470505.\n",
      "[I 2024-02-03 10:08:32,613] Trial 29 finished with value: -19.77014308581502 and parameters: {'x': 6.976961230089604}. Best is trial 6 with value: 4.8722114629470505.\n",
      "[I 2024-02-03 10:08:32,616] Trial 30 finished with value: 4.754856735491781 and parameters: {'x': 1.5048805553119333}. Best is trial 6 with value: 4.8722114629470505.\n",
      "[I 2024-02-03 10:08:32,616] Trial 31 finished with value: 4.692625383193009 and parameters: {'x': 1.4455862404241844}. Best is trial 6 with value: 4.8722114629470505.\n",
      "[I 2024-02-03 10:08:32,630] Trial 32 finished with value: 1.0285706823350211 and parameters: {'x': 3.9928445292257444}. Best is trial 6 with value: 4.8722114629470505.\n",
      "[I 2024-02-03 10:08:32,630] Trial 33 finished with value: 4.983377345465922 and parameters: {'x': 1.8710711260652682}. Best is trial 33 with value: 4.983377345465922.\n",
      "[I 2024-02-03 10:08:32,630] Trial 34 finished with value: -10.751805895476505 and parameters: {'x': 5.968854481519385}. Best is trial 33 with value: 4.983377345465922.\n",
      "[I 2024-02-03 10:08:32,647] Trial 35 finished with value: 0.9067714119415227 and parameters: {'x': -0.02317290117737536}. Best is trial 33 with value: 4.983377345465922.\n",
      "[I 2024-02-03 10:08:32,647] Trial 36 finished with value: -11.638030933702268 and parameters: {'x': -2.078974250188676}. Best is trial 33 with value: 4.983377345465922.\n",
      "[I 2024-02-03 10:08:32,647] Trial 37 finished with value: -30.266732166752902 and parameters: {'x': -3.9385799789809095}. Best is trial 33 with value: 4.983377345465922.\n",
      "[I 2024-02-03 10:08:32,664] Trial 38 finished with value: 4.9990026427020835 and parameters: {'x': 2.03158096417015}. Best is trial 38 with value: 4.9990026427020835.\n",
      "[I 2024-02-03 10:08:32,664] Trial 39 finished with value: -51.63552910389985 and parameters: {'x': -5.5256580512204945}. Best is trial 38 with value: 4.9990026427020835.\n",
      "[I 2024-02-03 10:08:32,664] Trial 40 finished with value: 2.66150784406249 and parameters: {'x': 3.529212920406282}. Best is trial 38 with value: 4.9990026427020835.\n",
      "[I 2024-02-03 10:08:32,681] Trial 41 finished with value: 4.9933975049843875 and parameters: {'x': 2.081255738354975}. Best is trial 38 with value: 4.9990026427020835.\n",
      "[I 2024-02-03 10:08:32,682] Trial 42 finished with value: 4.963873388539993 and parameters: {'x': 1.8099299827431805}. Best is trial 38 with value: 4.9990026427020835.\n",
      "[I 2024-02-03 10:08:32,682] Trial 43 finished with value: 4.9961567688248 and parameters: {'x': 2.0619937994899478}. Best is trial 38 with value: 4.9990026427020835.\n",
      "[I 2024-02-03 10:08:32,696] Trial 44 finished with value: 2.1481051395992368 and parameters: {'x': 0.31124458242149133}. Best is trial 38 with value: 4.9990026427020835.\n",
      "[I 2024-02-03 10:08:32,696] Trial 45 finished with value: -3.8414262484087036 and parameters: {'x': -0.9734535894156315}. Best is trial 38 with value: 4.9990026427020835.\n",
      "[I 2024-02-03 10:08:32,696] Trial 46 finished with value: 4.864540664121512 and parameters: {'x': 2.368048007573044}. Best is trial 38 with value: 4.9990026427020835.\n",
      "[I 2024-02-03 10:08:32,715] Trial 47 finished with value: 1.119520801788425 and parameters: {'x': 3.9698931946203517}. Best is trial 38 with value: 4.9990026427020835.\n",
      "[I 2024-02-03 10:08:32,716] Trial 48 finished with value: 4.999359456971868 and parameters: {'x': 1.9746910484584543}. Best is trial 48 with value: 4.999359456971868.\n",
      "[I 2024-02-03 10:08:32,716] Trial 49 finished with value: 2.9843168472437682 and parameters: {'x': 3.4197475665611234}. Best is trial 48 with value: 4.999359456971868.\n",
      "[I 2024-02-03 10:08:32,732] Trial 50 finished with value: -8.031787592946717 and parameters: {'x': 5.6099567300657105}. Best is trial 48 with value: 4.999359456971868.\n",
      "[I 2024-02-03 10:08:32,732] Trial 51 finished with value: 4.9646074632749935 and parameters: {'x': 2.188129042747277}. Best is trial 48 with value: 4.999359456971868.\n",
      "[I 2024-02-03 10:08:32,732] Trial 52 finished with value: 4.942730303530301 and parameters: {'x': 2.2393108782936935}. Best is trial 48 with value: 4.999359456971868.\n",
      "[I 2024-02-03 10:08:32,747] Trial 53 finished with value: 2.712637226388119 and parameters: {'x': 0.48759702009951034}. Best is trial 48 with value: 4.999359456971868.\n",
      "[I 2024-02-03 10:08:32,781] Trial 54 finished with value: 4.088561203409611 and parameters: {'x': 2.9546930378872514}. Best is trial 48 with value: 4.999359456971868.\n",
      "[I 2024-02-03 10:08:32,781] Trial 55 finished with value: 3.239154711267936 and parameters: {'x': 0.6730315419226938}. Best is trial 48 with value: 4.999359456971868.\n",
      "[I 2024-02-03 10:08:32,798] Trial 56 finished with value: -1.8415940412869007 and parameters: {'x': -0.6156440968310082}. Best is trial 48 with value: 4.999359456971868.\n",
      "[I 2024-02-03 10:08:32,798] Trial 57 finished with value: 4.991209655564036 and parameters: {'x': 1.906243163257479}. Best is trial 48 with value: 4.999359456971868.\n",
      "[I 2024-02-03 10:08:32,814] Trial 58 finished with value: -7.264480995746554 and parameters: {'x': -1.5020681026711282}. Best is trial 48 with value: 4.999359456971868.\n",
      "[I 2024-02-03 10:08:32,814] Trial 59 finished with value: -21.00722398802228 and parameters: {'x': -3.0997278347008166}. Best is trial 48 with value: 4.999359456971868.\n",
      "[I 2024-02-03 10:08:32,814] Trial 60 finished with value: 3.26405252266192 and parameters: {'x': 3.3175535956226145}. Best is trial 48 with value: 4.999359456971868.\n",
      "[I 2024-02-03 10:08:32,832] Trial 61 finished with value: 4.997533623106641 and parameters: {'x': 1.9503373692464947}. Best is trial 48 with value: 4.999359456971868.\n",
      "[I 2024-02-03 10:08:32,832] Trial 62 finished with value: 3.6948256889559774 and parameters: {'x': 0.8575577427965899}. Best is trial 48 with value: 4.999359456971868.\n",
      "[I 2024-02-03 10:08:32,832] Trial 63 finished with value: 0.1931466533522137 and parameters: {'x': -0.1924537273675324}. Best is trial 48 with value: 4.999359456971868.\n",
      "[I 2024-02-03 10:08:32,847] Trial 64 finished with value: -3.5928667487788264 and parameters: {'x': 4.9313591981841505}. Best is trial 48 with value: 4.999359456971868.\n",
      "[I 2024-02-03 10:08:32,847] Trial 65 finished with value: 4.991335408161694 and parameters: {'x': 2.093083789342217}. Best is trial 48 with value: 4.999359456971868.\n",
      "[I 2024-02-03 10:08:32,864] Trial 66 finished with value: 4.36810388441469 and parameters: {'x': 2.794918936486803}. Best is trial 48 with value: 4.999359456971868.\n",
      "[I 2024-02-03 10:08:32,864] Trial 67 finished with value: 1.0013754496596206 and parameters: {'x': 3.9996561080196713}. Best is trial 48 with value: 4.999359456971868.\n",
      "[I 2024-02-03 10:08:32,864] Trial 68 finished with value: 4.390185610745827 and parameters: {'x': 1.2190938665536217}. Best is trial 48 with value: 4.999359456971868.\n",
      "[I 2024-02-03 10:08:32,880] Trial 69 finished with value: 4.30070775561638 and parameters: {'x': 2.8362369546866604}. Best is trial 48 with value: 4.999359456971868.\n",
      "[I 2024-02-03 10:08:32,880] Trial 70 finished with value: 4.999824439008199 and parameters: {'x': 2.0132499430867}. Best is trial 70 with value: 4.999824439008199.\n",
      "[I 2024-02-03 10:08:32,895] Trial 71 finished with value: 4.996769283084866 and parameters: {'x': 1.9431606041980254}. Best is trial 70 with value: 4.999824439008199.\n",
      "[I 2024-02-03 10:08:32,897] Trial 72 finished with value: 3.7420494126097323 and parameters: {'x': 0.8784160364064277}. Best is trial 70 with value: 4.999824439008199.\n",
      "[I 2024-02-03 10:08:32,897] Trial 73 finished with value: 2.6058459701883963 and parameters: {'x': 3.547305409352531}. Best is trial 70 with value: 4.999824439008199.\n",
      "[I 2024-02-03 10:08:32,914] Trial 74 finished with value: -110.41670623167764 and parameters: {'x': -8.743216754384026}. Best is trial 70 with value: 4.999824439008199.\n",
      "[I 2024-02-03 10:08:32,914] Trial 75 finished with value: 2.0022879899861756 and parameters: {'x': 0.2686098042284564}. Best is trial 70 with value: 4.999824439008199.\n",
      "[I 2024-02-03 10:08:32,914] Trial 76 finished with value: -0.9690970329499065 and parameters: {'x': 4.443173557680646}. Best is trial 70 with value: 4.999824439008199.\n",
      "[I 2024-02-03 10:08:32,932] Trial 77 finished with value: 4.995149830596128 and parameters: {'x': 1.9303568423757844}. Best is trial 70 with value: 4.999824439008199.\n",
      "[I 2024-02-03 10:08:32,932] Trial 78 finished with value: 4.541439431779252 and parameters: {'x': 1.3228289963231235}. Best is trial 70 with value: 4.999824439008199.\n",
      "[I 2024-02-03 10:08:32,932] Trial 79 finished with value: 4.814186328041378 and parameters: {'x': 2.431061100029476}. Best is trial 70 with value: 4.999824439008199.\n",
      "[I 2024-02-03 10:08:32,947] Trial 80 finished with value: 0.48595704014784236 and parameters: {'x': -0.12462772264981958}. Best is trial 70 with value: 4.999824439008199.\n",
      "[I 2024-02-03 10:08:32,947] Trial 81 finished with value: 4.979604922384042 and parameters: {'x': 1.8571886642595994}. Best is trial 70 with value: 4.999824439008199.\n",
      "[I 2024-02-03 10:08:32,947] Trial 82 finished with value: 4.032062125593723 and parameters: {'x': 2.983838337536344}. Best is trial 70 with value: 4.999824439008199.\n",
      "[I 2024-02-03 10:08:32,963] Trial 83 finished with value: 4.985594457354771 and parameters: {'x': 2.12002309213326}. Best is trial 70 with value: 4.999824439008199.\n",
      "[I 2024-02-03 10:08:32,963] Trial 84 finished with value: 4.007722324385863 and parameters: {'x': 1.0038686454015533}. Best is trial 70 with value: 4.999824439008199.\n",
      "[I 2024-02-03 10:08:32,963] Trial 85 finished with value: 1.0559771948172827 and parameters: {'x': 3.9859563955894695}. Best is trial 70 with value: 4.999824439008199.\n",
      "[I 2024-02-03 10:08:32,982] Trial 86 finished with value: 4.906754058774109 and parameters: {'x': 1.6946380160761807}. Best is trial 70 with value: 4.999824439008199.\n",
      "[I 2024-02-03 10:08:32,982] Trial 87 finished with value: 4.8326023269536575 and parameters: {'x': 2.4091426072243545}. Best is trial 70 with value: 4.999824439008199.\n",
      "[I 2024-02-03 10:08:32,997] Trial 88 finished with value: -1.5258401344538663 and parameters: {'x': -0.5545723975753489}. Best is trial 70 with value: 4.999824439008199.\n",
      "[I 2024-02-03 10:08:33,001] Trial 89 finished with value: 3.1451440887356004 and parameters: {'x': 3.3619309495214504}. Best is trial 70 with value: 4.999824439008199.\n",
      "[I 2024-02-03 10:08:33,001] Trial 90 finished with value: -6.406485454881722 and parameters: {'x': -1.377348879651275}. Best is trial 70 with value: 4.999824439008199.\n",
      "[I 2024-02-03 10:08:33,016] Trial 91 finished with value: 4.923020573162675 and parameters: {'x': 1.7225483342322034}. Best is trial 70 with value: 4.999824439008199.\n",
      "[I 2024-02-03 10:08:33,018] Trial 92 finished with value: 2.6378278638352883 and parameters: {'x': 0.46306404292022907}. Best is trial 70 with value: 4.999824439008199.\n",
      "[I 2024-02-03 10:08:33,018] Trial 93 finished with value: 4.999771389116307 and parameters: {'x': 2.0151198837195476}. Best is trial 70 with value: 4.999824439008199.\n",
      "[I 2024-02-03 10:08:33,035] Trial 94 finished with value: 4.676813042228991 and parameters: {'x': 2.568495345425984}. Best is trial 70 with value: 4.999824439008199.\n",
      "[I 2024-02-03 10:08:33,035] Trial 95 finished with value: 4.3898249119447605 and parameters: {'x': 1.218862951809838}. Best is trial 70 with value: 4.999824439008199.\n",
      "[I 2024-02-03 10:08:33,047] Trial 96 finished with value: 2.0745788693763605 and parameters: {'x': 3.7103862518810304}. Best is trial 70 with value: 4.999824439008199.\n",
      "[I 2024-02-03 10:08:33,050] Trial 97 finished with value: 3.892127009798723 and parameters: {'x': 3.052555457066884}. Best is trial 70 with value: 4.999824439008199.\n",
      "[I 2024-02-03 10:08:33,050] Trial 98 finished with value: 4.981230752220094 and parameters: {'x': 2.137000904303241}. Best is trial 70 with value: 4.999824439008199.\n",
      "[I 2024-02-03 10:08:33,066] Trial 99 finished with value: 4.705324944926656 and parameters: {'x': 1.457160193912289}. Best is trial 70 with value: 4.999824439008199.\n"
     ]
    },
    {
     "name": "stdout",
     "output_type": "stream",
     "text": [
      "\n",
      "Study statistics: \n",
      "  Number of finished trials:  100\n",
      "  Number of pruned trials:  0\n",
      "  Number of complete trials:  100\n",
      "Best trial:\n",
      "  Value:  4.999824439008199\n",
      "  Params: \n",
      "    x: 2.0132499430867\n"
     ]
    }
   ],
   "source": [
    "study = optuna.create_study(direction=\"maximize\")\n",
    "study.optimize(objective, n_trials=100)\n",
    "pruned_trials = study.get_trials(deepcopy=False, states=[TrialState.PRUNED])\n",
    "complete_trials = study.get_trials(deepcopy=False, states=[TrialState.COMPLETE])\n",
    "\n",
    "# Display the study statistics\n",
    "print(\"\\nStudy statistics: \")\n",
    "print(\"  Number of finished trials: \", len(study.trials))\n",
    "print(\"  Number of pruned trials: \", len(pruned_trials))\n",
    "print(\"  Number of complete trials: \", len(complete_trials))\n",
    "\n",
    "trial = study.best_trial\n",
    "print(\"Best trial:\")\n",
    "print(\"  Value: \", trial.value)\n",
    "print(\"  Params: \")\n",
    "for key, value in trial.params.items():\n",
    "    print(\"    {}: {}\".format(key, value))"
   ]
  },
  {
   "cell_type": "code",
   "execution_count": null,
   "metadata": {},
   "outputs": [],
   "source": []
  }
 ],
 "metadata": {
  "kernelspec": {
   "display_name": "PytorchGeometric8",
   "language": "python",
   "name": "python3"
  },
  "language_info": {
   "codemirror_mode": {
    "name": "ipython",
    "version": 3
   },
   "file_extension": ".py",
   "mimetype": "text/x-python",
   "name": "python",
   "nbconvert_exporter": "python",
   "pygments_lexer": "ipython3",
   "version": "3.8.18"
  }
 },
 "nbformat": 4,
 "nbformat_minor": 2
}
